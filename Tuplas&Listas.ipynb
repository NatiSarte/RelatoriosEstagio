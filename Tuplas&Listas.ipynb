{
  "cells": [
    {
      "cell_type": "markdown",
      "source": [
        "![logo_dcc (2).png](data:image/png;base64,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)\n",
        "\n",
        "**Curso de Computação 1** |\n",
        "**Introdução à Programação em Python**\n",
        "\n",
        "Prof. Luigi Ribeiro\n"
      ],
      "metadata": {
        "id": "ZRvd0iN5iBXy"
      },
      "id": "ZRvd0iN5iBXy"
    },
    {
      "cell_type": "markdown",
      "id": "1ffd6929",
      "metadata": {
        "id": "1ffd6929"
      },
      "source": [
        "##**Lista de exercício 04**\n"
      ]
    },
    {
      "cell_type": "markdown",
      "source": [
        "\n",
        "\n",
        "---\n",
        "Exercício 1\n",
        "\n",
        "Escreva uma função em Python chamada siga que receba uma tupla contendo o nome de um aluno e suas três notas. A função deve calcular a média das notas e retornar uma tupla contendo o nome do aluno, a média aritmética das notas com apenas uma casa decimal e uma string indicando a situação do aluno.\n",
        "\n",
        "A situação do aluno deve ser definida da seguinte maneira:\n",
        "\n",
        "*  Se a média das notas for maior ou igual a 7 (inclusive), a função deve retornar uma tupla contendo o nome do aluno, a média aritmética das notas com uma casa decimal, a string 'aprovado' e a mensagem 'Parabéns!'.\n",
        "*  Se a média das notas for menor que 7, mas maior ou igual a 5, a função deve retornar uma tupla contendo o nome do aluno, a média aritmética das notas com uma casa decimal e a string 'aprovado'.\n",
        "*  Se a média das notas for menor que 5, a função deve retornar uma tupla contendo o nome do aluno, a média aritmética das notas com uma casa decimal e a string 'reprovado'.\n",
        "\n",
        "Exemplo de entrada e saída da função:\n",
        "\n",
        "--- siga(('João', 6.5, 7.2, 8.0))\n",
        "\n",
        "('João', 7.2, 'aprovado', 'Parabéns!')\n",
        "\n",
        "--- siga(('Maria', 5.0, 4.5, 6.0))\n",
        "\n",
        "('Maria', 5.2, 'aprovado')\n",
        "\n",
        "--- siga(('Pedro', 2.0, 3.5, 4.0))\n",
        "\n",
        "('Pedro', 3.2, 'reprovado')\n"
      ],
      "metadata": {
        "id": "LPeu-C2o-_KP"
      },
      "id": "LPeu-C2o-_KP"
    },
    {
      "cell_type": "code",
      "source": [
        "# Exercício 1\n",
        "tupla_nome_notas = ('João',0,2,6)\n",
        "def siga(tupla):\n",
        "  a,b,c,d = tupla\n",
        "  media = round((b+c+d)/3,2)\n",
        "  if media >= 7:\n",
        "    tupla_resultado = (tupla[0],media,'Parabéns')\n",
        "    return tupla_resultado\n",
        "  elif media >=5 and media <7:\n",
        "    tupla_resultado = (tupla[0],media,'Aprovado')\n",
        "    return tupla_resultado\n",
        "  else:\n",
        "    tupla_resultado = (tupla[0],media,'Reprovado')\n",
        "    return tupla_resultado\n",
        "\n",
        "print(siga(tupla_nome_notas))\n"
      ],
      "metadata": {
        "id": "HDE5gMUtDGE9",
        "outputId": "4fbbcf78-3cdb-492d-aee0-6f3c478231bc",
        "colab": {
          "base_uri": "https://localhost:8080/"
        }
      },
      "id": "HDE5gMUtDGE9",
      "execution_count": null,
      "outputs": [
        {
          "output_type": "stream",
          "name": "stdout",
          "text": [
            "('João', 2.67, 'Reprovado')\n"
          ]
        }
      ]
    },
    {
      "cell_type": "markdown",
      "source": [
        "\n",
        "\n",
        "---\n",
        "Exercício 2\n",
        "\n",
        "O zodíaco chinês é composto por animais que se repetem em ciclos de 12 anos. Para identificar o signo do zodíaco de uma pessoa, podemos utilizar uma maneira simplificada que consiste em dividir o ano de nascimento da pessoa por 12 e verificar o resto dessa divisão. De acordo com a tabela de signos, cada resto corresponde a um animal do zodíaco.\n",
        "\n",
        "Escreva uma função em Python chamada signo_chines que receba o ano de nascimento de uma pessoa e retorne o signo aproximado correspondente. A função deve utilizar o operador de módulo % para obter o resto da divisão por 12 e retornar o animal correspondente de acordo com a tabela a seguir:\n",
        "\n",
        "0. Macaco\n",
        "1. Galo\n",
        "2. Cão\n",
        "3. Porco\n",
        "4. Rato\n",
        "5. Boi\n",
        "6. Tigre\n",
        "7. Coelho\n",
        "8. Dragão\n",
        "9. Cobra\n",
        "10. Cavalo\n",
        "11. Carneiro\n",
        "\n",
        "Não é necessário utilizar a estrutura condicional if para resolver este problema. Considere que o ano de nascimento será sempre um número inteiro positivo maior que 0.\n",
        "\n",
        "Exemplo de entrada e saída da função:\n",
        "\n",
        "--- signo_chines(1990)\n",
        "\n",
        "'Cavalo'\n",
        "\n",
        "--- signo_chines(2005)\n",
        "\n",
        "'Galo'\n",
        "\n",
        "--- signo_chines(2012)\n",
        "\n",
        "'Dragão'\n"
      ],
      "metadata": {
        "id": "PhGzvICdAGVt"
      },
      "id": "PhGzvICdAGVt"
    },
    {
      "cell_type": "code",
      "source": [
        "# Exercício 2\n",
        "\n",
        "def signo_chines(ano_nascimento):\n",
        "  lista_signos = ['Macaco','Galo','Cão','Porco','Rato','Boi','Tigre','Coelho','Dragão','Cobra','Cavalo','Carneiro']\n",
        "  resultado = ano_nascimento % 12\n",
        "  return lista_signos[resultado]\n",
        "\n",
        "print(signo_chines(1998))"
      ],
      "metadata": {
        "id": "2AwfrY3UAsbc",
        "outputId": "32003e5b-b025-4c99-8570-28c1d88f19b9",
        "colab": {
          "base_uri": "https://localhost:8080/"
        }
      },
      "id": "2AwfrY3UAsbc",
      "execution_count": null,
      "outputs": [
        {
          "output_type": "stream",
          "name": "stdout",
          "text": [
            "Tigre\n"
          ]
        }
      ]
    },
    {
      "cell_type": "code",
      "source": [
        "# Exercício 3 - Os formandos de uma turma desejam arrecadar fundos para sua cerimônia de formatura através da venda de rifas.\n",
        "# Eles decidiram criar um programa que permita cadastrar o nome dos compradores de rifas e sortear o vencedor.\n",
        "# Crie um programa que permita cadastrar os nomes das cinco pessoas que compraram as rifas e, em seguida,\n",
        "# sorteie o nome do ganhador do prêmio. Certifique-se de que os nomes dos compradores sejam armazenados em uma lista.\n",
        "import random\n",
        "lista_nomes = ['João','Lucas','Miguel','Renato','Caio']\n",
        "random.choice(lista_nomes)"
      ],
      "metadata": {
        "id": "A_Khj4KgJV3G",
        "outputId": "14fbe2cc-c3e4-49b6-8699-69c53c49f30c",
        "colab": {
          "base_uri": "https://localhost:8080/",
          "height": 35
        }
      },
      "id": "A_Khj4KgJV3G",
      "execution_count": null,
      "outputs": [
        {
          "output_type": "execute_result",
          "data": {
            "text/plain": [
              "'Renato'"
            ],
            "application/vnd.google.colaboratory.intrinsic+json": {
              "type": "string"
            }
          },
          "metadata": {},
          "execution_count": 15
        }
      ]
    },
    {
      "cell_type": "code",
      "source": [
        "# Exercícío 4 - Escreva uma função que receba como entrada duas listas L1 e L2 de tamanho 3 cada\n",
        "# e retorne uma nova lista L3, composta pela intercalação dos elementos de L1 e L2 na ordem em que aparecem.\n",
        "# Por exemplo, se L1 = [1, 3, 5] e L2 = [2, 4, 6], a função deve retornar L3 = [1, 2, 3, 4, 5, 6].\n",
        "\n",
        "def intercalando(list1,list2):\n",
        "  list1.insert(1,list2[0])\n",
        "  list1.insert(3,list2[1])\n",
        "  list1.insert(5,list2[2])\n",
        "  return list1\n",
        "\n",
        "\n",
        "print(intercalando([7,5,6],[3,2,1]))"
      ],
      "metadata": {
        "id": "2nlFaj56Nhxj",
        "outputId": "5a6a7c89-5d3f-4e25-83e6-e7319dae484b",
        "colab": {
          "base_uri": "https://localhost:8080/"
        }
      },
      "id": "2nlFaj56Nhxj",
      "execution_count": null,
      "outputs": [
        {
          "output_type": "stream",
          "name": "stdout",
          "text": [
            "[7, 3, 5, 2, 6, 1]\n"
          ]
        }
      ]
    },
    {
      "cell_type": "code",
      "source": [
        "# Exercício 5 - Escreva uma função em Python chamada \"insere_ordenado(lista, n)\" que recebe como parâmetros\n",
        "# uma lista \"lista\" de números inteiros ordenada em ordem crescente e um número inteiro \"n\".\n",
        "# Se a lista estiver vazia, a função deve inserir o número \"n\" na primeira posição da lista.\n",
        "# A função deve retornar a lista ordenada após a inserção. Certifique-se de testar a função com diferentes listas e valores de entrada.\n",
        "def insere_ordenado(lista,n):\n",
        "  lista.sort()\n",
        "  teste = []\n",
        "  if lista == teste:\n",
        "    lista.insert(0,n)\n",
        "  return lista\n",
        "\n",
        "print(insere_ordenado([6,5,8],5))"
      ],
      "metadata": {
        "id": "bK0zXJNiQonh",
        "colab": {
          "base_uri": "https://localhost:8080/"
        },
        "outputId": "29365860-46c8-4204-9365-9738d305c3a8"
      },
      "id": "bK0zXJNiQonh",
      "execution_count": null,
      "outputs": [
        {
          "output_type": "stream",
          "name": "stdout",
          "text": [
            "[5, 6, 8]\n"
          ]
        }
      ]
    },
    {
      "cell_type": "code",
      "source": [
        "# Exercício 6 - Escreva uma função chamada \"numeros_maiores\" que recebe uma lista de números inteiros\n",
        "# e um número inteiro n como argumentos. A função deve retornar uma nova lista contendo todos\n",
        "# os números da lista original que são maiores que n, em ordem crescente.\n",
        "def numeros_maiores(lista,n):\n",
        "  lista.append(n)\n",
        "  lista.sort()\n",
        "  indice = lista.index(n)\n",
        "  sublista = lista[indice + 1:]\n",
        "  return sublista\n",
        "\n",
        "print(numeros_maiores([5,7,0,9,8,1,3,6,5,],2))"
      ],
      "metadata": {
        "id": "y9lYYpTQS_03",
        "colab": {
          "base_uri": "https://localhost:8080/"
        },
        "outputId": "06d232a3-f316-4ec5-be0c-d73a8da8e9d5"
      },
      "id": "y9lYYpTQS_03",
      "execution_count": null,
      "outputs": [
        {
          "output_type": "stream",
          "name": "stdout",
          "text": [
            "[3, 5, 5, 6, 7, 8, 9]\n"
          ]
        }
      ]
    },
    {
      "cell_type": "code",
      "source": [
        "# Exercício 7 - Escreva uma função chamada 'notas_acima_da_media' que recebe como entrada uma lista\n",
        "# com as notas dos alunos de uma turma e retorna outra lista contendo as notas acima da média da turma, ordenadas em ordem crescente.\n",
        "# DICA: Você pode aproveitar a função desenvolvida no exercício anterior.\"\n",
        "def notas_acima_da_media(lista,media):\n",
        "  lista.append(media)\n",
        "  lista.sort()\n",
        "  posicao_media = lista.index(media)\n",
        "  aprovados = lista[posicao_media + 1:]\n",
        "  return aprovados\n",
        "\n",
        "print(notas_acima_da_media([7.8,9.0,6,3,1,0,8.6,4.5,3.3,6],7))"
      ],
      "metadata": {
        "id": "9UP7s3nUVW81",
        "colab": {
          "base_uri": "https://localhost:8080/"
        },
        "outputId": "e1aba608-33d8-4413-eef8-b7e7b60b7bcd"
      },
      "id": "9UP7s3nUVW81",
      "execution_count": null,
      "outputs": [
        {
          "output_type": "stream",
          "name": "stdout",
          "text": [
            "[7.8, 8.6, 9.0]\n"
          ]
        }
      ]
    }
  ],
  "metadata": {
    "kernelspec": {
      "display_name": "Python 3 (ipykernel)",
      "language": "python",
      "name": "python3"
    },
    "language_info": {
      "codemirror_mode": {
        "name": "ipython",
        "version": 3
      },
      "file_extension": ".py",
      "mimetype": "text/x-python",
      "name": "python",
      "nbconvert_exporter": "python",
      "pygments_lexer": "ipython3",
      "version": "3.7.7"
    },
    "colab": {
      "provenance": []
    }
  },
  "nbformat": 4,
  "nbformat_minor": 5
}